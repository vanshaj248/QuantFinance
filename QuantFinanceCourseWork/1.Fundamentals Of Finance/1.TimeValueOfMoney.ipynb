{
 "cells": [
  {
   "cell_type": "markdown",
   "id": "f7aae839",
   "metadata": {},
   "source": [
    "### Topics Covered\n",
    "\n",
    "- **Annuities**\n",
    "- **Growing Annuities**\n",
    "- **Perpetuities**\n",
    "- **Growing Perpetuities**"
   ]
  },
  {
   "cell_type": "code",
   "execution_count": null,
   "id": "8bbc6bae",
   "metadata": {},
   "outputs": [],
   "source": [
    "def annuity_pv(payment, rate, periods):\n",
    "     \"\"\"Present Value of an Ordinary Annuity\"\"\"\n",
    "     return payment * (1 - (1 + rate) ** -periods) / rate\n",
    "\n",
    "def growing_annuity_pv(payment, rate, growth, periods):\n",
    "     \"\"\"Present Value of a Growing Annuity\"\"\"\n",
    "     if rate == growth:\n",
    "          return payment * periods / (1 + rate)\n",
    "     return payment * (1 - ((1 + growth) / (1 + rate)) ** periods) / (rate - growth)\n",
    "\n",
    "def perpetuity_pv(payment, rate):\n",
    "     \"\"\"Present Value of a Perpetuity\"\"\"\n",
    "     return payment / rate\n",
    "\n",
    "def growing_perpetuity_pv(payment, rate, growth):\n",
    "     \"\"\"Present Value of a Growing Perpetuity\"\"\"\n",
    "     return payment / (rate - growth)"
   ]
  },
  {
   "cell_type": "code",
   "execution_count": null,
   "id": "1127e5be",
   "metadata": {},
   "outputs": [],
   "source": [
    "def after_tax_return(pre_tax_return, tax_rate):\n",
    "     \"\"\"\n",
    "     Calculate the after-tax return.\n",
    "     pre_tax_return: annual return before tax (as a decimal, e.g., 0.08 for 8%)\n",
    "     tax_rate: tax rate on returns (as a decimal, e.g., 0.25 for 25%)\n",
    "     \"\"\"\n",
    "     return pre_tax_return * (1 - tax_rate)"
   ]
  },
  {
   "cell_type": "markdown",
   "id": "a727fef6",
   "metadata": {},
   "source": []
  }
 ],
 "metadata": {
  "kernelspec": {
   "display_name": "Python 3",
   "language": "python",
   "name": "python3"
  },
  "language_info": {
   "codemirror_mode": {
    "name": "ipython",
    "version": 3
   },
   "file_extension": ".py",
   "mimetype": "text/x-python",
   "name": "python",
   "nbconvert_exporter": "python",
   "pygments_lexer": "ipython3",
   "version": "3.12.11"
  }
 },
 "nbformat": 4,
 "nbformat_minor": 5
}
