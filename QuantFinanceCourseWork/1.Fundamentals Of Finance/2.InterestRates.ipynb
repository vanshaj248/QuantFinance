{
 "cells": [
  {
   "cell_type": "code",
   "execution_count": 1,
   "id": "558bddb5",
   "metadata": {},
   "outputs": [
    {
     "name": "stdout",
     "output_type": "stream",
     "text": [
      "Example 1 (Credit Card):\n",
      "APR: 18.00%\n",
      "EAR: 19.56%\n",
      "\n",
      "Example 2 (Daily Loan):\n",
      "APR: 18.25%\n",
      "EAR: 20.02%\n"
     ]
    }
   ],
   "source": [
    "#APR and EAR\n",
    "\n",
    "def calculate_apr(periodic_rate, periods_per_year):\n",
    "    \"\"\"\n",
    "    Calculate APR (Annual Percentage Rate).\n",
    "    \n",
    "    Parameters:\n",
    "        periodic_rate (float): Interest rate per period (e.g., monthly rate).\n",
    "        periods_per_year (int): Number of compounding periods in a year.\n",
    "    \n",
    "    Returns:\n",
    "        float: APR in decimal form.\n",
    "    \"\"\"\n",
    "    apr = periodic_rate * periods_per_year\n",
    "    return apr\n",
    "\n",
    "def calculate_ear(apr, periods_per_year):\n",
    "    \"\"\"\n",
    "    Calculate EAR (Effective Annual Rate).\n",
    "    \n",
    "    Parameters:\n",
    "        apr (float): Annual Percentage Rate (in decimal form, e.g., 0.12 for 12%).\n",
    "        periods_per_year (int): Number of compounding periods per year.\n",
    "    \n",
    "    Returns:\n",
    "        float: EAR in decimal form.\n",
    "    \"\"\"\n",
    "    ear = (1 + (apr / periods_per_year)) ** periods_per_year - 1\n",
    "    return ear\n",
    "\n",
    "# Example 1: Credit Card with Monthly Compounding\n",
    "monthly_rate = 0.015  # 1.5% monthly rate\n",
    "periods = 12          # Monthly compounding\n",
    "\n",
    "apr_example = calculate_apr(monthly_rate, periods)\n",
    "ear_example = calculate_ear(apr_example, periods)\n",
    "\n",
    "print(f\"Example 1 (Credit Card):\")\n",
    "print(f\"APR: {apr_example * 100:.2f}%\")  # 18.00%\n",
    "print(f\"EAR: {ear_example * 100:.2f}%\")  # 19.56% (due to compounding)\n",
    "\n",
    "# Example 2: Loan with Daily Compounding\n",
    "daily_rate = 0.0005  # 0.05% daily rate\n",
    "periods = 365        # Daily compounding\n",
    "\n",
    "apr_example2 = calculate_apr(daily_rate, periods)\n",
    "ear_example2 = calculate_ear(apr_example2, periods)\n",
    "\n",
    "print(f\"\\nExample 2 (Daily Loan):\")\n",
    "print(f\"APR: {apr_example2 * 100:.2f}%\")  # 18.25%\n",
    "print(f\"EAR: {ear_example2 * 100:.2f}%\")  # 19.72% (higher due to daily compounding)"
   ]
  },
  {
   "cell_type": "code",
   "execution_count": 2,
   "id": "e049e824",
   "metadata": {},
   "outputs": [
    {
     "data": {
      "image/png": "[encoded data removed]",
      "text/plain": [
       "<Figure size 800x400 with 1 Axes>"
      ]
     },
     "metadata": {},
     "output_type": "display_data"
    }
   ],
   "source": [
    "#Term Structure\n",
    "import matplotlib.pyplot as plt\n",
    "\n",
    "# Sample data\n",
    "maturities = [1/12, 1, 5, 10, 30]  # 1-month, 1-year, 5-year, etc.\n",
    "yields = [2.0, 2.5, 3.0, 3.2, 3.5]  # Corresponding yields (%)\n",
    "\n",
    "# Plotting\n",
    "plt.figure(figsize=(8, 4))\n",
    "plt.plot(maturities, yields, marker='o')\n",
    "plt.title(\"Term Structure of Interest Rates (Yield Curve)\")\n",
    "plt.xlabel(\"Time to Maturity (Years)\")\n",
    "plt.ylabel(\"Yield (%)\")\n",
    "plt.grid(True)\n",
    "plt.show()"
   ]
  },
  {
   "cell_type": "code",
   "execution_count": null,
   "id": "dbce2bef",
   "metadata": {},
   "outputs": [
    {
     "name": "stdout",
     "output_type": "stream",
     "text": [
      "Enterprise Value (DCF): $163.64M\n",
      "163.6363636363636\n"
     ]
    }
   ],
   "source": [
    "#Discounted Cash Flow\n",
    "def dcf_valuation(cash_flows, discount_rate, terminal_growth):\n",
    "    \"\"\"\n",
    "    Calculate DCF valuation given projected cash flows, discount rate, and terminal growth.\n",
    "    \n",
    "    Parameters:\n",
    "        cash_flows (list): List of projected free cash flows (e.g., [10, 12, 14]).\n",
    "        discount_rate (float): WACC or required rate of return (e.g., 0.10 for 10%).\n",
    "        terminal_growth (float): Long-term growth rate (e.g., 0.02 for 2%).\n",
    "    \n",
    "    Returns:\n",
    "        float: Present value of future cash flows + terminal value.\n",
    "    \"\"\"\n",
    "    pv_cashflows = 0\n",
    "    for i, cf in enumerate(cash_flows, 1):\n",
    "        pv_cashflows += cf / (1 + discount_rate) ** i\n",
    "    \n",
    "    terminal_value = (cash_flows[-1] * (1 + terminal_growth)) / (discount_rate - terminal_growth)\n",
    "    pv_terminal = terminal_value / (1 + discount_rate) ** len(cash_flows)\n",
    "    \n",
    "    total_enterprise_value = pv_cashflows + pv_terminal\n",
    "    return total_enterprise_value\n",
    "\n",
    "# Example\n",
    "cash_flows = [10, 12, 14]  # $10M, $12M, $14M\n",
    "discount_rate = 0.10  # 10%\n",
    "terminal_growth = 0.02  # 2%\n",
    "\n",
    "enterprise_value = dcf_valuation(cash_flows, discount_rate, terminal_growth)\n",
    "print(f\"Enterprise Value (DCF): ${enterprise_value:.2f}M\")\n"
   ]
  },
  {
   "cell_type": "code",
   "execution_count": 5,
   "id": "317c1a5e",
   "metadata": {},
   "outputs": [
    {
     "name": "stdout",
     "output_type": "stream",
     "text": [
      "NPV: $22.76\n",
      "IRR: 21.6%\n",
      "Payback Period: 2.17 years\n"
     ]
    }
   ],
   "source": [
    "import numpy_financial as npf\n",
    "\n",
    "# Sample Cash Flows (Year 0 = Initial Investment)\n",
    "cash_flows = [-100, 40, 50, 60]\n",
    "discount_rate = 0.10  # 10%\n",
    "\n",
    "# NPV Calculation\n",
    "npv = npf.npv(discount_rate, cash_flows)\n",
    "print(f\"NPV: ${npv:.2f}\")  # $22.76\n",
    "\n",
    "# IRR Calculation\n",
    "irr = npf.irr(cash_flows)\n",
    "print(f\"IRR: {irr*100:.1f}%\")  # 22.7%\n",
    "\n",
    "# Payback Period Calculation\n",
    "def payback_period(cash_flows):\n",
    "    cumulative, years = 0, 0\n",
    "    for cf in cash_flows[1:]:\n",
    "        cumulative += cf\n",
    "        years += 1\n",
    "        if cumulative >= -cash_flows[0]:\n",
    "            return years - 1 + (-cash_flows[0] - (cumulative - cf)) / cf\n",
    "    return \"Never\"\n",
    "\n",
    "print(f\"Payback Period: {payback_period(cash_flows):.2f} years\")  # 2.17 years"
   ]
  },
  {
   "cell_type": "code",
   "execution_count": 7,
   "id": "67ace827",
   "metadata": {},
   "outputs": [
    {
     "name": "stdout",
     "output_type": "stream",
     "text": [
      "Free Cash Flow (FCF): $300.0M\n",
      "Apple FCF: $100.0B\n",
      "FCF Yield: 3.57%\n",
      "FCF Margin: 25.38%\n"
     ]
    }
   ],
   "source": [
    "#Free Cash Flow\n",
    "def calculate_fcf(operating_cash_flow, capex):\n",
    "    \"\"\"Calculate Free Cash Flow (FCF) from Operating Cash Flow and CapEx.\"\"\"\n",
    "    return operating_cash_flow - capex\n",
    "\n",
    "# Example\n",
    "operating_cash_flow = 500_000_000  # $500M\n",
    "capex = 200_000_000                # $200M\n",
    "fcf = calculate_fcf(operating_cash_flow, capex)\n",
    "print(f\"Free Cash Flow (FCF): ${fcf/1e6}M\")  # Output: $300M\n",
    "\n",
    "\n",
    "\n",
    "def fcf_analysis(operating_cash_flow, capex, revenue, market_cap):\n",
    "    fcf = operating_cash_flow - capex\n",
    "    fcf_yield = (fcf / market_cap) * 100  # As a percentage\n",
    "    fcf_margin = (fcf / revenue) * 100\n",
    "    return fcf, fcf_yield, fcf_margin\n",
    "\n",
    "# Example: Apple (2023)\n",
    "apple_fcf, apple_yield, apple_margin = fcf_analysis(\n",
    "    operating_cash_flow=110e9, capex=10e9, revenue=394e9, market_cap=2.8e12\n",
    ")\n",
    "\n",
    "print(f\"Apple FCF: ${apple_fcf/1e9}B\")              # $100B\n",
    "print(f\"FCF Yield: {apple_yield:.2f}%\")            # 3.57%\n",
    "print(f\"FCF Margin: {apple_margin:.2f}%\")          # 25.38%"
   ]
  }
 ],
 "metadata": {
  "kernelspec": {
   "display_name": "Python 3",
   "language": "python",
   "name": "python3"
  },
  "language_info": {
   "codemirror_mode": {
    "name": "ipython",
    "version": 3
   },
   "file_extension": ".py",
   "mimetype": "text/x-python",
   "name": "python",
   "nbconvert_exporter": "python",
   "pygments_lexer": "ipython3",
   "version": "3.12.11"
  }
 },
 "nbformat": 4,
 "nbformat_minor": 5
}
